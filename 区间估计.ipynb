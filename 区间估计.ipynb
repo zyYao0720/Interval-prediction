{
 "cells": [
  {
   "cell_type": "markdown",
   "metadata": {},
   "source": [
    "# PICP/ PINAW/ Interval Score"
   ]
  },
  {
   "cell_type": "code",
   "execution_count": 201,
   "metadata": {},
   "outputs": [
    {
     "data": {
      "text/html": [
       "<div>\n",
       "<style scoped>\n",
       "    .dataframe tbody tr th:only-of-type {\n",
       "        vertical-align: middle;\n",
       "    }\n",
       "\n",
       "    .dataframe tbody tr th {\n",
       "        vertical-align: top;\n",
       "    }\n",
       "\n",
       "    .dataframe thead th {\n",
       "        text-align: right;\n",
       "    }\n",
       "</style>\n",
       "<table border=\"1\" class=\"dataframe\">\n",
       "  <thead>\n",
       "    <tr style=\"text-align: right;\">\n",
       "      <th></th>\n",
       "      <th>ETO</th>\n",
       "      <th>XGB</th>\n",
       "      <th>RF</th>\n",
       "      <th>CNN</th>\n",
       "      <th>GRU</th>\n",
       "      <th>MLP</th>\n",
       "      <th>Proposed</th>\n",
       "    </tr>\n",
       "  </thead>\n",
       "  <tbody>\n",
       "    <tr>\n",
       "      <th>0</th>\n",
       "      <td>4.243704</td>\n",
       "      <td>3.174300</td>\n",
       "      <td>3.792897</td>\n",
       "      <td>4.212972</td>\n",
       "      <td>3.943855</td>\n",
       "      <td>3.914148</td>\n",
       "      <td>3.290865</td>\n",
       "    </tr>\n",
       "    <tr>\n",
       "      <th>1</th>\n",
       "      <td>3.635035</td>\n",
       "      <td>2.466880</td>\n",
       "      <td>3.360410</td>\n",
       "      <td>3.118935</td>\n",
       "      <td>3.643656</td>\n",
       "      <td>3.079274</td>\n",
       "      <td>2.594209</td>\n",
       "    </tr>\n",
       "    <tr>\n",
       "      <th>2</th>\n",
       "      <td>3.537506</td>\n",
       "      <td>3.293312</td>\n",
       "      <td>3.393853</td>\n",
       "      <td>3.748376</td>\n",
       "      <td>2.853267</td>\n",
       "      <td>1.950341</td>\n",
       "      <td>3.319929</td>\n",
       "    </tr>\n",
       "    <tr>\n",
       "      <th>3</th>\n",
       "      <td>3.440828</td>\n",
       "      <td>3.457177</td>\n",
       "      <td>3.678498</td>\n",
       "      <td>3.336210</td>\n",
       "      <td>2.712084</td>\n",
       "      <td>2.057823</td>\n",
       "      <td>3.455395</td>\n",
       "    </tr>\n",
       "    <tr>\n",
       "      <th>4</th>\n",
       "      <td>2.878740</td>\n",
       "      <td>3.976076</td>\n",
       "      <td>3.720689</td>\n",
       "      <td>3.634695</td>\n",
       "      <td>4.603443</td>\n",
       "      <td>4.256463</td>\n",
       "      <td>3.856467</td>\n",
       "    </tr>\n",
       "  </tbody>\n",
       "</table>\n",
       "</div>"
      ],
      "text/plain": [
       "        ETO       XGB        RF       CNN       GRU       MLP  Proposed\n",
       "0  4.243704  3.174300  3.792897  4.212972  3.943855  3.914148  3.290865\n",
       "1  3.635035  2.466880  3.360410  3.118935  3.643656  3.079274  2.594209\n",
       "2  3.537506  3.293312  3.393853  3.748376  2.853267  1.950341  3.319929\n",
       "3  3.440828  3.457177  3.678498  3.336210  2.712084  2.057823  3.455395\n",
       "4  2.878740  3.976076  3.720689  3.634695  4.603443  4.256463  3.856467"
      ]
     },
     "execution_count": 201,
     "metadata": {},
     "output_type": "execute_result"
    }
   ],
   "source": [
    "import pandas as pd\n",
    "import numpy as np\n",
    "data=pd.read_excel(\"../5 sub-models/寿县_28.xlsx\")\n",
    "data.head()"
   ]
  },
  {
   "cell_type": "code",
   "execution_count": 202,
   "metadata": {},
   "outputs": [],
   "source": [
    "import numpy as np\n",
    "\n",
    "def calculate_metrics(y_true, y_pred, alpha = 0.05):\n",
    "    \"\"\"\n",
    "    计算区间预测的评价指标\n",
    "\n",
    "    参数:\n",
    "        y_true: 真实值，shape为(n_samples,)\n",
    "        y_pred: 区间预测值，shape为(n_samples,)\n",
    "        alpha: 置信水平，取值范围为(0, 1)\n",
    "\n",
    "    返回:\n",
    "        PICP: 区间预测置信度，float\n",
    "        PINAW: 区间预测置信区间宽度，float\n",
    "        SCORE: 区间预测得分，float\n",
    "        SKILL_SCORE: 区间预测技能得分，float\n",
    "    \"\"\"\n",
    "\n",
    "\n",
    "\n",
    "    s=np.std(y_pred)\n",
    "    lower_bound = y_pred-1.96*s\n",
    "    upper_bound = y_pred+1.96*s\n",
    "    n_samples = len(y_true)\n",
    "\n",
    "    # 计算PICP\n",
    "    in_interval = np.logical_and(y_true >= lower_bound, y_true <= upper_bound)\n",
    "    PICP = np.sum(in_interval) / n_samples\n",
    "\n",
    "    s=np.std(y_true - y_pred)\n",
    "    lower_bound = y_pred-1.96*s\n",
    "    upper_bound = y_pred+1.96*s\n",
    "    n_samples = len(y_true)\n",
    "\n",
    "    # 计算PINAW\n",
    "    PINAW = np.mean(upper_bound - lower_bound)\n",
    "\n",
    "    # 计算 Interval Score\n",
    "    score = np.zeros(n_samples)\n",
    "    for i in range(n_samples):\n",
    "        if y_true[i] < lower_bound[i]:\n",
    "            score[i] = -2 * (upper_bound[i] - lower_bound[i]) -4 * (lower_bound[i] - y_true[i])\n",
    "        elif y_true[i] > upper_bound[i]:\n",
    "            score[i] = -2 * (upper_bound[i] - lower_bound[i]) -4 * (y_true[i] - upper_bound[i])\n",
    "        else:\n",
    "            score[i] = -2 * (upper_bound[i] - lower_bound[i])\n",
    "    SCORE = np.mean(score)\n",
    "\n",
    "    return PICP, PINAW, SCORE\n",
    "\n",
    "\n",
    "\n"
   ]
  },
  {
   "cell_type": "code",
   "execution_count": 203,
   "metadata": {},
   "outputs": [
    {
     "data": {
      "text/plain": [
       "(0.9422714913198076, 6.530294339741201, -13.414492478266581)"
      ]
     },
     "execution_count": 203,
     "metadata": {},
     "output_type": "execute_result"
    }
   ],
   "source": [
    "calculate_metrics(data['ETO'],data['XGB'])"
   ]
  },
  {
   "cell_type": "code",
   "execution_count": 204,
   "metadata": {},
   "outputs": [
    {
     "data": {
      "text/plain": [
       "(0.9351600083664505, 6.218943629004124, -12.747838895635766)"
      ]
     },
     "execution_count": 204,
     "metadata": {},
     "output_type": "execute_result"
    }
   ],
   "source": [
    "calculate_metrics(data['ETO'],data['RF'])"
   ]
  },
  {
   "cell_type": "code",
   "execution_count": 205,
   "metadata": {},
   "outputs": [
    {
     "data": {
      "text/plain": [
       "(0.9700899393432336, 5.902607951194169, -11.996558154810618)"
      ]
     },
     "execution_count": 205,
     "metadata": {},
     "output_type": "execute_result"
    }
   ],
   "source": [
    "calculate_metrics(data['ETO'],data['CNN'])"
   ]
  },
  {
   "cell_type": "code",
   "execution_count": 206,
   "metadata": {},
   "outputs": [
    {
     "data": {
      "text/plain": [
       "(0.9633967789165446, 6.151073269724087, -12.520696605536507)"
      ]
     },
     "execution_count": 206,
     "metadata": {},
     "output_type": "execute_result"
    }
   ],
   "source": [
    "calculate_metrics(data['ETO'],data['GRU'])"
   ]
  },
  {
   "cell_type": "code",
   "execution_count": 207,
   "metadata": {},
   "outputs": [
    {
     "data": {
      "text/plain": [
       "(0.978874712403263, 5.963729032870325, -12.169763468167952)"
      ]
     },
     "execution_count": 207,
     "metadata": {},
     "output_type": "execute_result"
    }
   ],
   "source": [
    "calculate_metrics(data['ETO'],data['MLP'])"
   ]
  },
  {
   "cell_type": "code",
   "execution_count": 208,
   "metadata": {},
   "outputs": [
    {
     "data": {
      "text/plain": [
       "(0.9581677473331939, 5.81849225670941, -11.952312798135523)"
      ]
     },
     "execution_count": 208,
     "metadata": {},
     "output_type": "execute_result"
    }
   ],
   "source": [
    "calculate_metrics(data['ETO'],data['Proposed'])"
   ]
  }
 ],
 "metadata": {
  "kernelspec": {
   "display_name": "Python 3",
   "language": "python",
   "name": "python3"
  },
  "language_info": {
   "codemirror_mode": {
    "name": "ipython",
    "version": 3
   },
   "file_extension": ".py",
   "mimetype": "text/x-python",
   "name": "python",
   "nbconvert_exporter": "python",
   "pygments_lexer": "ipython3",
   "version": "3.9.13"
  },
  "orig_nbformat": 4,
  "vscode": {
   "interpreter": {
    "hash": "cddbdc538c09b0b47371ae40580457bfbde3af2437c2544403f3f5585f13c5a0"
   }
  }
 },
 "nbformat": 4,
 "nbformat_minor": 2
}
